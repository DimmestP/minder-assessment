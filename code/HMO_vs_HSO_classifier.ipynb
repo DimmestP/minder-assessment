{
 "cells": [
  {
   "cell_type": "markdown",
   "id": "185d7ed2-ec54-48fb-b498-6f2009ad6898",
   "metadata": {},
   "source": [
    "# Developing a classifier for houses of multiple or single occupancy"
   ]
  },
  {
   "cell_type": "code",
   "execution_count": null,
   "id": "f6b5071f-c8e2-4d46-b2a7-cd5c0c152e03",
   "metadata": {},
   "outputs": [],
   "source": [
    "# Load required python libraries\n",
    "import sqlite3\n",
    "import pandas as pd\n",
    "\n",
    "# Attach sqlite data base\n",
    "connection = sqlite3.connect(\"../data/data.db\")\n",
    "cursor = connection.cursor()"
   ]
  },
  {
   "cell_type": "markdown",
   "id": "1d337fb7-8dd4-47ed-ad51-54a4799f3c60",
   "metadata": {},
   "source": [
    "## Import data from Sqlite database to pandas data frame\n",
    "Sqlite database consists of two tables; homes and motion. \n",
    "\n",
    "### homes\n",
    "\n",
    "homes holds whether the home is a single or multiple occupancy house.\n",
    "\n",
    "- id is the unique house id (hexadecimal)\n",
    "- multiple_occupancy is whether house is occupied by more than one person (binary)\n",
    "\n",
    "### motion\n",
    "\n",
    "motion holds each motion detection event as a tuple with four entries\n",
    "\n",
    "- id is the unique event id (hexadecimal)\n",
    "- home_id is the unique house id (hexadecimal)\n",
    "- datetime is the time of the motion detection event (YYYY-MM-DD HH:MM:SS+ss)\n",
    "- location is the room of house that the motion was detected in (string)"
   ]
  },
  {
   "cell_type": "code",
   "execution_count": null,
   "id": "fefe6833-4364-443d-b313-62ec59fa99b3",
   "metadata": {},
   "outputs": [],
   "source": [
    "homes = pd.read_sql_query(\"SELECT * FROM homes\", connection)\n",
    "# Change id to homes_id to be consistent and specific\n",
    "homes = homes.rename(columns={\"id\":\"home_id\"})"
   ]
  },
  {
   "cell_type": "code",
   "execution_count": null,
   "id": "0de07d82-b0c4-488e-98c7-92f06b27fd72",
   "metadata": {},
   "outputs": [],
   "source": [
    "motion = pd.read_sql_query(\"SELECT * FROM motion\", connection)\n",
    "# Change id to event_id to be consistent and specific\n",
    "motion = motion.rename(columns={\"id\":\"event_id\"})"
   ]
  },
  {
   "cell_type": "code",
   "execution_count": null,
   "id": "bd972f64-2181-4fef-9f2b-7491cb6d1f97",
   "metadata": {},
   "outputs": [],
   "source": [
    "motion_homes_join = pd.merge(homes,motion, on=\"home_id\")"
   ]
  },
  {
   "cell_type": "markdown",
   "id": "3a0c6834-414f-4398-9a3f-d69e7c336a02",
   "metadata": {},
   "source": [
    "## Initial data exploration\n",
    "\n",
    "Checks to make sure there is no missing data\n",
    "\n",
    "- **do all home_id's have entries in both tables?**     There are only 50 unique homes with motion data\n",
    "- do all homes have the same rooms?\n",
    "- do the events cover the same time period?\n",
    "- are there similar number of events per house?"
   ]
  },
  {
   "cell_type": "code",
   "execution_count": null,
   "id": "35bc7334-186f-4f5f-9a55-a8920fe2be87",
   "metadata": {},
   "outputs": [],
   "source": [
    "print(\"Number of unique home_ids in homes table: \", homes[\"home_id\"].unique().shape)\n",
    "print(\"Number of unique home_ids in motion table: \", motion[\"home_id\"].unique().shape)\n",
    "print(\"Number of unique home_ids in motion-homes combined: \", motion_homes_join[\"home_id\"].unique().shape)"
   ]
  },
  {
   "cell_type": "code",
   "execution_count": null,
   "id": "3d089b3f-ce98-4831-9ff0-67021ad0774b",
   "metadata": {},
   "outputs": [],
   "source": [
    "motion.groupby(\"home_id\").count()"
   ]
  },
  {
   "cell_type": "code",
   "execution_count": null,
   "id": "a0da24c9-390c-4817-b646-96798903c5f9",
   "metadata": {},
   "outputs": [],
   "source": []
  },
  {
   "cell_type": "code",
   "execution_count": null,
   "id": "9826db46-7160-44d7-a2ff-197c76997c85",
   "metadata": {},
   "outputs": [],
   "source": []
  }
 ],
 "metadata": {
  "kernelspec": {
   "display_name": "Python 3 (ipykernel)",
   "language": "python",
   "name": "python3"
  },
  "language_info": {
   "codemirror_mode": {
    "name": "ipython",
    "version": 3
   },
   "file_extension": ".py",
   "mimetype": "text/x-python",
   "name": "python",
   "nbconvert_exporter": "python",
   "pygments_lexer": "ipython3",
   "version": "3.12.3"
  }
 },
 "nbformat": 4,
 "nbformat_minor": 5
}
